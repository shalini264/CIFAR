{
  "nbformat": 4,
  "nbformat_minor": 0,
  "metadata": {
    "colab": {
      "name": "CIFAR.ipynb",
      "provenance": []
    },
    "kernelspec": {
      "name": "python3",
      "display_name": "Python 3"
    },
    "language_info": {
      "name": "python"
    }
  },
  "cells": [
    {
      "cell_type": "code",
      "metadata": {
        "id": "AeI3JqMUHPsw"
      },
      "source": [
        "import tensorflow as tf\n",
        "from tensorflow.keras import layers, datasets, models\n",
        "import matplotlib.pyplot as plt\n",
        "import numpy as np"
      ],
      "execution_count": 1,
      "outputs": []
    },
    {
      "cell_type": "code",
      "metadata": {
        "colab": {
          "base_uri": "https://localhost:8080/"
        },
        "id": "_RpPjqBkIFa5",
        "outputId": "b166e0cb-3017-48c0-8e8b-12d83be29b21"
      },
      "source": [
        "(x_train,y_train),(x_test,y_test) = datasets.cifar10.load_data()"
      ],
      "execution_count": 2,
      "outputs": [
        {
          "output_type": "stream",
          "text": [
            "Downloading data from https://www.cs.toronto.edu/~kriz/cifar-10-python.tar.gz\n",
            "170500096/170498071 [==============================] - 11s 0us/step\n"
          ],
          "name": "stdout"
        }
      ]
    },
    {
      "cell_type": "markdown",
      "metadata": {
        "id": "LX45QfMTJs93"
      },
      "source": [
        "Normalizing data set"
      ]
    },
    {
      "cell_type": "code",
      "metadata": {
        "colab": {
          "base_uri": "https://localhost:8080/"
        },
        "id": "Jx44SM_pKchY",
        "outputId": "caa469e1-3565-4b16-c686-828ffa373849"
      },
      "source": [
        "x_train.shape"
      ],
      "execution_count": 3,
      "outputs": [
        {
          "output_type": "execute_result",
          "data": {
            "text/plain": [
              "(50000, 32, 32, 3)"
            ]
          },
          "metadata": {
            "tags": []
          },
          "execution_count": 3
        }
      ]
    },
    {
      "cell_type": "code",
      "metadata": {
        "id": "zHf82knfIrhA"
      },
      "source": [
        "x_train = x_train/255\n",
        "x_test = x_test/255"
      ],
      "execution_count": 4,
      "outputs": []
    },
    {
      "cell_type": "code",
      "metadata": {
        "id": "fsrzuFUGJ4KX"
      },
      "source": [
        "ann = models.Sequential(\n",
        "    [\n",
        "     layers.Flatten(input_shape=(32,32,3)),\n",
        "     layers.Dense(3000,activation='relu'),\n",
        "     layers.Dense(1000,activation='relu'),\n",
        "     layers.Dense(10,activation='softmax')\n",
        "    ]\n",
        ")"
      ],
      "execution_count": null,
      "outputs": []
    },
    {
      "cell_type": "code",
      "metadata": {
        "id": "YotvOQJpLETe"
      },
      "source": [
        "ann.compile(\n",
        "    optimizer='adam',\n",
        "    loss = 'sparse_categorical_crossentropy',\n",
        "    metrics = ['accuracy']\n",
        ")"
      ],
      "execution_count": null,
      "outputs": []
    },
    {
      "cell_type": "code",
      "metadata": {
        "colab": {
          "base_uri": "https://localhost:8080/"
        },
        "id": "fUFnVX12LgVh",
        "outputId": "ab0e5b7b-7fa6-4348-f50b-42d4c54a7391"
      },
      "source": [
        "ann.fit(x_train,y_train,epochs=10)"
      ],
      "execution_count": null,
      "outputs": [
        {
          "output_type": "stream",
          "text": [
            "Epoch 1/10\n",
            "1563/1563 [==============================] - 139s 88ms/step - loss: 1.8771 - accuracy: 0.3267\n",
            "Epoch 2/10\n",
            "1563/1563 [==============================] - 136s 87ms/step - loss: 1.6638 - accuracy: 0.4000\n",
            "Epoch 3/10\n",
            "1563/1563 [==============================] - 135s 86ms/step - loss: 1.5890 - accuracy: 0.4286\n",
            "Epoch 4/10\n",
            "1563/1563 [==============================] - 138s 88ms/step - loss: 1.5381 - accuracy: 0.4487\n",
            "Epoch 5/10\n",
            "1563/1563 [==============================] - 135s 87ms/step - loss: 1.5051 - accuracy: 0.4608\n",
            "Epoch 6/10\n",
            "1563/1563 [==============================] - 135s 86ms/step - loss: 1.4709 - accuracy: 0.4736\n",
            "Epoch 7/10\n",
            "1563/1563 [==============================] - 136s 87ms/step - loss: 1.4461 - accuracy: 0.4819\n",
            "Epoch 8/10\n",
            "1563/1563 [==============================] - 139s 89ms/step - loss: 1.4266 - accuracy: 0.4888\n",
            "Epoch 9/10\n",
            "1563/1563 [==============================] - 137s 88ms/step - loss: 1.4037 - accuracy: 0.4951\n",
            "Epoch 10/10\n",
            "1563/1563 [==============================] - 137s 88ms/step - loss: 1.3876 - accuracy: 0.5018\n"
          ],
          "name": "stdout"
        },
        {
          "output_type": "execute_result",
          "data": {
            "text/plain": [
              "<tensorflow.python.keras.callbacks.History at 0x7f467ebbfa50>"
            ]
          },
          "metadata": {
            "tags": []
          },
          "execution_count": 13
        }
      ]
    },
    {
      "cell_type": "code",
      "metadata": {
        "id": "kxuayFr5QUFc"
      },
      "source": [
        "cnn = models.Sequential([\n",
        "                         layers.Conv2D(filters=32,kernel_size=(3,3),activation='relu',input_shape=(32,32,3)),\n",
        "                         layers.MaxPool2D((2,2)),\n",
        "                         layers.Conv2D(filters=64,kernel_size=(3,3),activation='relu'),\n",
        "                         layers.MaxPool2D((2,2)),\n",
        "                         layers.Flatten(),\n",
        "                         layers.Dense(64,activation='relu'),\n",
        "                         layers.Dense(10,activation='softmax')\n",
        "])"
      ],
      "execution_count": 5,
      "outputs": []
    },
    {
      "cell_type": "code",
      "metadata": {
        "id": "es7DPs6JUbk1"
      },
      "source": [
        "cnn.compile(\n",
        "    optimizer='adam',\n",
        "    loss = 'sparse_categorical_crossentropy',\n",
        "    metrics = ['accuracy']\n",
        ")"
      ],
      "execution_count": 6,
      "outputs": []
    },
    {
      "cell_type": "code",
      "metadata": {
        "colab": {
          "base_uri": "https://localhost:8080/"
        },
        "id": "Zj1jv1siUsDV",
        "outputId": "cbe4cf6e-96ae-46d5-a70e-e0eee11ef429"
      },
      "source": [
        "cnn.fit(x_train,y_train,epochs=10)"
      ],
      "execution_count": 7,
      "outputs": [
        {
          "output_type": "stream",
          "text": [
            "Epoch 1/10\n",
            "1563/1563 [==============================] - 64s 41ms/step - loss: 1.4917 - accuracy: 0.4611\n",
            "Epoch 2/10\n",
            "1563/1563 [==============================] - 63s 40ms/step - loss: 1.1448 - accuracy: 0.5982\n",
            "Epoch 3/10\n",
            "1563/1563 [==============================] - 63s 41ms/step - loss: 1.0009 - accuracy: 0.6521\n",
            "Epoch 4/10\n",
            "1563/1563 [==============================] - 63s 40ms/step - loss: 0.9187 - accuracy: 0.6821\n",
            "Epoch 5/10\n",
            "1563/1563 [==============================] - 62s 40ms/step - loss: 0.8549 - accuracy: 0.7041\n",
            "Epoch 6/10\n",
            "1563/1563 [==============================] - 62s 40ms/step - loss: 0.8026 - accuracy: 0.7213\n",
            "Epoch 7/10\n",
            "1563/1563 [==============================] - 62s 40ms/step - loss: 0.7596 - accuracy: 0.7364\n",
            "Epoch 8/10\n",
            "1563/1563 [==============================] - 63s 40ms/step - loss: 0.7174 - accuracy: 0.7509\n",
            "Epoch 9/10\n",
            "1563/1563 [==============================] - 62s 40ms/step - loss: 0.6844 - accuracy: 0.7625\n",
            "Epoch 10/10\n",
            "1563/1563 [==============================] - 62s 40ms/step - loss: 0.6526 - accuracy: 0.7738\n"
          ],
          "name": "stdout"
        },
        {
          "output_type": "execute_result",
          "data": {
            "text/plain": [
              "<tensorflow.python.keras.callbacks.History at 0x7f3540241690>"
            ]
          },
          "metadata": {
            "tags": []
          },
          "execution_count": 7
        }
      ]
    },
    {
      "cell_type": "markdown",
      "metadata": {
        "id": "YNC2YDscb1W0"
      },
      "source": [
        "we can clearly see that,ANN provides only 0.50 accuracy whereas cnn gives 0.77 "
      ]
    },
    {
      "cell_type": "code",
      "metadata": {
        "colab": {
          "base_uri": "https://localhost:8080/"
        },
        "id": "O3clI8ECYF8f",
        "outputId": "97d5acbf-b141-4111-e70a-4b8e2856307c"
      },
      "source": [
        "cnn.evaluate(x_test,y_test)"
      ],
      "execution_count": 8,
      "outputs": [
        {
          "output_type": "stream",
          "text": [
            "313/313 [==============================] - 4s 11ms/step - loss: 0.9363 - accuracy: 0.6870\n"
          ],
          "name": "stdout"
        },
        {
          "output_type": "execute_result",
          "data": {
            "text/plain": [
              "[0.9362587928771973, 0.6869999766349792]"
            ]
          },
          "metadata": {
            "tags": []
          },
          "execution_count": 8
        }
      ]
    },
    {
      "cell_type": "code",
      "metadata": {
        "colab": {
          "base_uri": "https://localhost:8080/",
          "height": 1000
        },
        "id": "U_gix24mYRaB",
        "outputId": "8a9a8f90-b65d-4fe6-c068-5d8423c2d18a"
      },
      "source": [
        "classes = [\"airplane\",\"automobile\",\"bird\",\"cat\",\"deer\",\"dog\",\"frog\",\"horse\",\"ship\",\"truck\"]\n",
        "for i in range(1,11):\n",
        "  plt.imshow(x_test[i])\n",
        "  plt.show()\n",
        "  print(\"Predicted value:\",classes[np.argmax(cnn.predict(x_test[i:i+1]))])\n",
        "  print(\"Actual value:\",classes[y_test[i][0]])"
      ],
      "execution_count": 16,
      "outputs": [
        {
          "output_type": "display_data",
          "data": {
            "image/png": "[encoded data removed]",
            "text/plain": [
              "<Figure size 432x288 with 1 Axes>"
            ]
          },
          "metadata": {
            "tags": [],
            "needs_background": "light"
          }
        },
        {
          "output_type": "stream",
          "text": [
            "Predicted value: automobile\n",
            "Actual value: ship\n"
          ],
          "name": "stdout"
        },
        {
          "output_type": "display_data",
          "data": {
            "image/png": "[encoded data removed]",
            "text/plain": [
              "<Figure size 432x288 with 1 Axes>"
            ]
          },
          "metadata": {
            "tags": [],
            "needs_background": "light"
          }
        },
        {
          "output_type": "stream",
          "text": [
            "Predicted value: automobile\n",
            "Actual value: ship\n"
          ],
          "name": "stdout"
        },
        {
          "output_type": "display_data",
          "data": {
            "image/png": "[encoded data removed]",
            "text/plain": [
              "<Figure size 432x288 with 1 Axes>"
            ]
          },
          "metadata": {
            "tags": [],
            "needs_background": "light"
          }
        },
        {
          "output_type": "stream",
          "text": [
            "Predicted value: airplane\n",
            "Actual value: airplane\n"
          ],
          "name": "stdout"
        },
        {
          "output_type": "display_data",
          "data": {
            "image/png": "[encoded data removed]",
            "text/plain": [
              "<Figure size 432x288 with 1 Axes>"
            ]
          },
          "metadata": {
            "tags": [],
            "needs_background": "light"
          }
        },
        {
          "output_type": "stream",
          "text": [
            "Predicted value: deer\n",
            "Actual value: frog\n"
          ],
          "name": "stdout"
        },
        {
          "output_type": "display_data",
          "data": {
            "image/png": "[encoded data removed]",
            "text/plain": [
              "<Figure size 432x288 with 1 Axes>"
            ]
          },
          "metadata": {
            "tags": [],
            "needs_background": "light"
          }
        },
        {
          "output_type": "stream",
          "text": [
            "Predicted value: frog\n",
            "Actual value: frog\n"
          ],
          "name": "stdout"
        },
        {
          "output_type": "display_data",
          "data": {
            "image/png": "[encoded data removed]",
            "text/plain": [
              "<Figure size 432x288 with 1 Axes>"
            ]
          },
          "metadata": {
            "tags": [],
            "needs_background": "light"
          }
        },
        {
          "output_type": "stream",
          "text": [
            "Predicted value: truck\n",
            "Actual value: automobile\n"
          ],
          "name": "stdout"
        },
        {
          "output_type": "display_data",
          "data": {
            "image/png": "[encoded data removed]",
            "text/plain": [
              "<Figure size 432x288 with 1 Axes>"
            ]
          },
          "metadata": {
            "tags": [],
            "needs_background": "light"
          }
        },
        {
          "output_type": "stream",
          "text": [
            "Predicted value: frog\n",
            "Actual value: frog\n"
          ],
          "name": "stdout"
        },
        {
          "output_type": "display_data",
          "data": {
            "image/png": "[encoded data removed]",
            "text/plain": [
              "<Figure size 432x288 with 1 Axes>"
            ]
          },
          "metadata": {
            "tags": [],
            "needs_background": "light"
          }
        },
        {
          "output_type": "stream",
          "text": [
            "Predicted value: cat\n",
            "Actual value: cat\n"
          ],
          "name": "stdout"
        },
        {
          "output_type": "display_data",
          "data": {
            "image/png": "[encoded data removed]",
            "text/plain": [
              "<Figure size 432x288 with 1 Axes>"
            ]
          },
          "metadata": {
            "tags": [],
            "needs_background": "light"
          }
        },
        {
          "output_type": "stream",
          "text": [
            "Predicted value: automobile\n",
            "Actual value: automobile\n"
          ],
          "name": "stdout"
        },
        {
          "output_type": "display_data",
          "data": {
            "image/png": "[encoded data removed]",
            "text/plain": [
              "<Figure size 432x288 with 1 Axes>"
            ]
          },
          "metadata": {
            "tags": [],
            "needs_background": "light"
          }
        },
        {
          "output_type": "stream",
          "text": [
            "Predicted value: airplane\n",
            "Actual value: airplane\n"
          ],
          "name": "stdout"
        }
      ]
    },
    {
      "cell_type": "code",
      "metadata": {
        "id": "35k_jptmaasG"
      },
      "source": [
        "from sklearn.metrics import classification_report\n",
        "y_pred = cnn.predict(x_test)\n",
        "y_pred_class = [np.argmax(i) for i in y_pred]\n",
        "report = classification_report(y_test,y_pred_class)"
      ],
      "execution_count": 20,
      "outputs": []
    },
    {
      "cell_type": "code",
      "metadata": {
        "colab": {
          "base_uri": "https://localhost:8080/"
        },
        "id": "YXD4lXwpbgTW",
        "outputId": "0261ae3f-26cc-4471-8177-64c0b645aba2"
      },
      "source": [
        "print(\"Classification Report \\n\",report)"
      ],
      "execution_count": 23,
      "outputs": [
        {
          "output_type": "stream",
          "text": [
            "Classification Report \n",
            "               precision    recall  f1-score   support\n",
            "\n",
            "           0       0.72      0.75      0.73      1000\n",
            "           1       0.84      0.77      0.81      1000\n",
            "           2       0.78      0.41      0.54      1000\n",
            "           3       0.52      0.48      0.50      1000\n",
            "           4       0.53      0.76      0.62      1000\n",
            "           5       0.63      0.59      0.61      1000\n",
            "           6       0.80      0.71      0.75      1000\n",
            "           7       0.77      0.70      0.73      1000\n",
            "           8       0.75      0.83      0.79      1000\n",
            "           9       0.65      0.88      0.75      1000\n",
            "\n",
            "    accuracy                           0.69     10000\n",
            "   macro avg       0.70      0.69      0.68     10000\n",
            "weighted avg       0.70      0.69      0.68     10000\n",
            "\n"
          ],
          "name": "stdout"
        }
      ]
    }
  ]
}